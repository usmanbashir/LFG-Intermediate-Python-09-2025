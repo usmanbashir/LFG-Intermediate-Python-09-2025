{
 "cells": [
  {
   "cell_type": "markdown",
   "metadata": {
    "slideshow": {
     "slide_type": "slide"
    }
   },
   "source": [
    "# Functional Closures and Decorators"
   ]
  },
  {
   "cell_type": "markdown",
   "metadata": {
    "slideshow": {
     "slide_type": "subslide"
    }
   },
   "source": [
    "##  Closures\n",
    "* In order to understand closures, let's review the Python scoping rules: LEGB\n",
    "  * L = local\n",
    "  * E = enclosing\n",
    "  * G = global\n",
    "  * B = builtin (e.g., len() function)"
   ]
  },
  {
   "cell_type": "code",
   "execution_count": 1,
   "metadata": {
    "slideshow": {
     "slide_type": "subslide"
    }
   },
   "outputs": [],
   "source": [
    "global_var = 'global var'\n",
    "   \n",
    "def outer_func():\n",
    "    local_var = 'local to outer_func()'\n",
    "    def inner_func():\n",
    "        inner_var = 'local to inner_func()'\n",
    "        print(local_var, 'enclosing scope')\n",
    "        print(global_var, 'global scope')\n",
    "        \n",
    "    inner_func()"
   ]
  },
  {
   "cell_type": "code",
   "execution_count": 2,
   "metadata": {},
   "outputs": [
    {
     "name": "stdout",
     "output_type": "stream",
     "text": [
      "local to outer_func() enclosing scope\n",
      "global var global scope\n"
     ]
    }
   ],
   "source": [
    "outer_func()"
   ]
  },
  {
   "cell_type": "markdown",
   "metadata": {
    "slideshow": {
     "slide_type": "subslide"
    }
   },
   "source": [
    "* When a function references a name that is not local, Python first attempts to resolve that name in the enclosing scope\n",
    "* A *closure* is a nested function which _remembers_ a value or values from the enclosing lexical scope even when the program flow is no longer in the enclosing scope"
   ]
  },
  {
   "cell_type": "code",
   "execution_count": 3,
   "metadata": {
    "slideshow": {
     "slide_type": "subslide"
    }
   },
   "outputs": [
    {
     "name": "stdout",
     "output_type": "stream",
     "text": [
      "id(x): 0x7fd58c4f5448\n",
      "id(adder): 0x7fd5676104a0\n",
      "about to call add39()\n",
      "in adder\n"
     ]
    },
    {
     "data": {
      "text/plain": [
       "148"
      ]
     },
     "execution_count": 3,
     "metadata": {},
     "output_type": "execute_result"
    }
   ],
   "source": [
    "def make_adder(x):\n",
    "    # print x's address\n",
    "    print(f'id(x): 0x{id(x):x}')\n",
    "    # enclosing scope\n",
    "    \n",
    "    def adder(y):\n",
    "        print('in adder')\n",
    "        return x + y # Python uses LEGB to find 'x'\n",
    "    \n",
    "    print(f'id(adder): 0x{id(adder):x}')\n",
    "    return adder # we return the function adder (i.e., its address in memory) \n",
    "\n",
    "add39 = make_adder(39)\n",
    "print('about to call add39()')\n",
    "add39(109)"
   ]
  },
  {
   "cell_type": "code",
   "execution_count": 4,
   "metadata": {},
   "outputs": [
    {
     "name": "stdout",
     "output_type": "stream",
     "text": [
      "<class 'function'>\n",
      "<function make_adder.<locals>.adder at 0x7fd5676104a0>\n"
     ]
    }
   ],
   "source": [
    "# let's use repr so we can see the address of the function\n",
    "# we could use print(\"%X\") as well...\n",
    "print(type(add39), repr(add39), sep='\\n')"
   ]
  },
  {
   "cell_type": "code",
   "execution_count": 5,
   "metadata": {
    "scrolled": true
   },
   "outputs": [
    {
     "data": {
      "text/plain": [
       "(<cell at 0x7fd584135f60: int object at 0x7fd58c4f5448>,)"
      ]
     },
     "execution_count": 5,
     "metadata": {},
     "output_type": "execute_result"
    }
   ],
   "source": [
    "# all functions have a closure attribute\n",
    "add39.__closure__"
   ]
  },
  {
   "cell_type": "code",
   "execution_count": 6,
   "metadata": {},
   "outputs": [
    {
     "data": {
      "text/plain": [
       "39"
      ]
     },
     "execution_count": 6,
     "metadata": {},
     "output_type": "execute_result"
    }
   ],
   "source": [
    "# notice that the cell object has a reference to an int object\n",
    "add39.__closure__[0].cell_contents"
   ]
  },
  {
   "cell_type": "code",
   "execution_count": 7,
   "metadata": {},
   "outputs": [
    {
     "name": "stdout",
     "output_type": "stream",
     "text": [
      "None\n"
     ]
    }
   ],
   "source": [
    "print(make_adder.__closure__)"
   ]
  },
  {
   "cell_type": "markdown",
   "metadata": {
    "slideshow": {
     "slide_type": "subslide"
    }
   },
   "source": [
    "* One case where closures are frequently used is in building function wrappers\n",
    "* Suppose we want to log each invocation of a function:"
   ]
  },
  {
   "cell_type": "code",
   "execution_count": 8,
   "metadata": {
    "slideshow": {
     "slide_type": "-"
    }
   },
   "outputs": [],
   "source": [
    "def logging(f):\n",
    "    def wrapper(*args, **kwargs):\n",
    "        print(f'Calling {f}({args}, {kwargs})')\n",
    "        return f(*args, **kwargs)\n",
    "    return wrapper"
   ]
  },
  {
   "cell_type": "code",
   "execution_count": 9,
   "metadata": {
    "slideshow": {
     "slide_type": "-"
    }
   },
   "outputs": [],
   "source": [
    "logging_add39 = logging(add39)"
   ]
  },
  {
   "cell_type": "code",
   "execution_count": 10,
   "metadata": {
    "slideshow": {
     "slide_type": "-"
    }
   },
   "outputs": [
    {
     "name": "stdout",
     "output_type": "stream",
     "text": [
      "in adder\n",
      "44\n"
     ]
    }
   ],
   "source": [
    "print(add39(5)) # remember that add39 just adds 39 to our argument"
   ]
  },
  {
   "cell_type": "code",
   "execution_count": 11,
   "metadata": {
    "slideshow": {
     "slide_type": "-"
    }
   },
   "outputs": [
    {
     "name": "stdout",
     "output_type": "stream",
     "text": [
      "Calling <function make_adder.<locals>.adder at 0x7fd5676104a0>((5,), {})\n",
      "in adder\n",
      "44\n"
     ]
    }
   ],
   "source": [
    "print(logging_add39(5))"
   ]
  },
  {
   "cell_type": "code",
   "execution_count": 12,
   "metadata": {
    "slideshow": {
     "slide_type": "subslide"
    }
   },
   "outputs": [
    {
     "data": {
      "text/plain": [
       "<function __main__.make_adder.<locals>.adder(y)>"
      ]
     },
     "execution_count": 12,
     "metadata": {},
     "output_type": "execute_result"
    }
   ],
   "source": [
    "logging_add39.__closure__[0].cell_contents"
   ]
  },
  {
   "cell_type": "markdown",
   "metadata": {
    "slideshow": {
     "slide_type": "subslide"
    }
   },
   "source": [
    "## Decorators\n",
    "* Wrapper functions are so common, that Python has its own term for it–a *decorator*.\n",
    "* Why might you want to use a decorator?\n",
    "  * sometimes you want to modify a function’s behavior without explicitly modifying the function, e.g., pre/post actions, debugging, etc. \n",
    "  * suppose we have a set of tasks that need to be performed by many different functions, e.g.,\n",
    "   * access control\n",
    "   * cleanup\n",
    "   * error handling\n",
    "   * logging\n",
    " * ...in other words, there is some boilerplate code that needs to be executed before or after  every invocation of the function\n"
   ]
  },
  {
   "cell_type": "markdown",
   "metadata": {
    "slideshow": {
     "slide_type": "subslide"
    }
   },
   "source": [
    "## Decorators build on topics we already know...\n",
    "* nested functions\n",
    "* variable positional args (`*args`)\n",
    "* variable keyword args (`**kwargs`)\n",
    "* functions are objects (actually everything in Python is an object)"
   ]
  },
  {
   "cell_type": "code",
   "execution_count": 13,
   "metadata": {},
   "outputs": [],
   "source": [
    "def document_it(func):\n",
    "    # below is a nested, or inner function\n",
    "    def new_function(*args, **kwargs):\n",
    "        print(f'Running function: {func.__name__}')\n",
    "        print(f'Positional arguments: {args}')\n",
    "        print(f'Keyword arguments: {kwargs}')\n",
    "        # here we invoke the function passed in as an argument\n",
    "        result = func(*args, **kwargs)\n",
    "        print(f'Result: {result}')\n",
    "        return result\n",
    "    \n",
    "    # document_it() is returning a reference to the inner function\n",
    "    return new_function"
   ]
  },
  {
   "cell_type": "code",
   "execution_count": 14,
   "metadata": {},
   "outputs": [
    {
     "name": "stdout",
     "output_type": "stream",
     "text": [
      "Running plain old add_things()\n",
      "18\n"
     ]
    }
   ],
   "source": [
    "def add_things(a, b):\n",
    "    return a + b\n",
    "\n",
    "print('Running plain old add_things()')\n",
    "print(add_things(13, 5))"
   ]
  },
  {
   "cell_type": "code",
   "execution_count": 15,
   "metadata": {},
   "outputs": [],
   "source": [
    "# manual decorator assignment\n",
    "add_things = document_it(add_things) "
   ]
  },
  {
   "cell_type": "code",
   "execution_count": 16,
   "metadata": {},
   "outputs": [
    {
     "name": "stdout",
     "output_type": "stream",
     "text": [
      "Running function: add_things\n",
      "Positional arguments: (13, 5)\n",
      "Keyword arguments: {}\n",
      "Result: 18\n"
     ]
    },
    {
     "data": {
      "text/plain": [
       "18"
      ]
     },
     "execution_count": 16,
     "metadata": {},
     "output_type": "execute_result"
    }
   ],
   "source": [
    "#print('Running cooler_add_things()')\n",
    "add_things(13, 5)"
   ]
  },
  {
   "cell_type": "code",
   "execution_count": 17,
   "metadata": {},
   "outputs": [
    {
     "name": "stdout",
     "output_type": "stream",
     "text": [
      "Running function: add_things\n",
      "Positional arguments: (13, -5)\n",
      "Keyword arguments: {}\n",
      "Result: 8\n",
      "8\n"
     ]
    }
   ],
   "source": [
    "# decorator shorthand for what we did above\n",
    "\n",
    "# from your_decorators import document_it\n",
    "\n",
    "@document_it\n",
    "def add_things(a, b):\n",
    "    return a + b\n",
    "\n",
    "# add_things = document_it(add_things)\n",
    "\n",
    "print(add_things(13, -5))"
   ]
  },
  {
   "cell_type": "markdown",
   "metadata": {},
   "source": [
    "## Lab: Decorators\n",
    "1. Create some function which takes an integer as its parameter\n",
    "  * create a wrapper that ensures the parameter is positive\n",
    "  * use that wrapper to decorate your original function\n",
    "2. Make a timer decorator that computes the elapsed time of the function wrapped by it\n"
   ]
  },
  {
   "cell_type": "code",
   "execution_count": 20,
   "metadata": {},
   "outputs": [
    {
     "name": "stdout",
     "output_type": "stream",
     "text": [
      "Warning: Negative input -5 converted to 5\n",
      "120\n"
     ]
    }
   ],
   "source": [
    "from functools import wraps\n",
    "\n",
    "# Decorator to ensure the parameter is positive\n",
    "def ensure_positive(func):\n",
    "    @wraps(func)\n",
    "    def wrapper(n):\n",
    "        if n < 0:\n",
    "            print(f\"Warning: Negative input {n} converted to {abs(n)}\")\n",
    "            n = abs(n)  # Convert to positive\n",
    "        return func(n)\n",
    "    return wrapper\n",
    "\n",
    "# Function to compute factorial (example)\n",
    "@ensure_positive\n",
    "def factorial(n):\n",
    "    \"\"\"Computes factorial of a number (non-recursive).\"\"\"\n",
    "    result = 1\n",
    "    for i in range(1, n + 1):\n",
    "        result *= i\n",
    "    return result\n",
    "\n",
    "# Example usage:\n",
    "print(factorial(-5))  # Output: Warning message & factorial of 5\n"
   ]
  },
  {
   "cell_type": "code",
   "execution_count": 22,
   "metadata": {},
   "outputs": [
    {
     "name": "stdout",
     "output_type": "stream",
     "text": [
      "Function 'slow_factorial' took 1.000086 seconds\n",
      "120\n"
     ]
    }
   ],
   "source": [
    "import time\n",
    "\n",
    "# Timer decorator\n",
    "def timer(func):\n",
    "    @wraps(func)\n",
    "    def wrapper(*args, **kwargs):\n",
    "        start_time = time.perf_counter()  # Record start time\n",
    "        result = func(*args, **kwargs)\n",
    "        end_time = time.perf_counter()  # Record end time\n",
    "        elapsed_time = end_time - start_time\n",
    "        print(f\"Function '{func.__name__}' took {elapsed_time:.6f} seconds\")\n",
    "        return result\n",
    "    return wrapper\n",
    "\n",
    "# Example usage with factorial function\n",
    "@timer\n",
    "def slow_factorial(n):\n",
    "    \"\"\"Computes factorial with a delay to demonstrate timing.\"\"\"\n",
    "    time.sleep(1)  # Simulating a slow function\n",
    "    return factorial(n)\n",
    "\n",
    "# Call the decorated function\n",
    "print(slow_factorial(5))\n"
   ]
  }
 ],
 "metadata": {
  "celltoolbar": "Slideshow",
  "kernelspec": {
   "display_name": "LFG-Backup",
   "language": "python",
   "name": "python3"
  },
  "language_info": {
   "codemirror_mode": {
    "name": "ipython",
    "version": 3
   },
   "file_extension": ".py",
   "mimetype": "text/x-python",
   "name": "python",
   "nbconvert_exporter": "python",
   "pygments_lexer": "ipython3",
   "version": "3.12.4"
  }
 },
 "nbformat": 4,
 "nbformat_minor": 4
}
