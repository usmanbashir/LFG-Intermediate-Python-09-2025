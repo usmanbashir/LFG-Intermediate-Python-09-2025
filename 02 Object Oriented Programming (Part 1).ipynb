{
 "cells": [
  {
   "cell_type": "markdown",
   "metadata": {
    "slideshow": {
     "slide_type": "slide"
    }
   },
   "source": [
    "# Object-Oriented Programming and Python Classes"
   ]
  },
  {
   "cell_type": "markdown",
   "metadata": {
    "slideshow": {
     "slide_type": "subslide"
    }
   },
   "source": [
    "* programming paradigm based on the concept of \"objects\" rather than \"actions\"\n",
    "  * objects may contain data, i.e., _fields_ often called *attributes*\n",
    "  * objects may contain code, i.e., functions, often called *methods*\n",
    "  * an object's methods can access and (often) modify the data fields of the object with which they are associated (objects have a notion of *this* or *self*)\n",
    "* Python, like most popular OO programming languages, is class-based\n",
    "  * i.e., objects are instances of classes, which typically also determine their type"
   ]
  },
  {
   "cell_type": "markdown",
   "metadata": {
    "slideshow": {
     "slide_type": "subslide"
    }
   },
   "source": [
    "## Our first class… __`BankAccount`__\n",
    "* let's consider a class *BankAccount*, which represents, unsurprisingly, a bank account\n",
    "* what kinds of data (attributes) should a bank account have?\n",
    "  * owner's name\n",
    "  * current balance\n",
    "  * and of course many others, but those are a good start\n",
    "* what kind of operations (methods) should we be able to perform on a bank account?\n",
    "  * deposit money\n",
    "  * withdraw money\n",
    "  * again, we can think of others, but that's a good minimum set"
   ]
  },
  {
   "cell_type": "code",
   "execution_count": null,
   "metadata": {},
   "outputs": [],
   "source": [
    "class BankAccount:\n",
    "  \"\"\"A class (or type) that represents a bank account.\"\"\"\n",
    "\n",
    "  def __init__(self, name, initial_balance):\n",
    "    self.name = name\n",
    "    self.balance = initial_balance\n",
    "\n",
    "    print('in __init__')\n",
    "\n",
    "  def deposit(self, amount):\n",
    "    \"\"\"deposit function (a.k.a method)\"\"\"\n",
    "    if amount > 0:\n",
    "      self.balance += amount\n",
    "      return self.balance\n",
    "    else:\n",
    "      print(\"can't deposit non-positive amount!\")\n",
    "\n",
    "  def withdraw(self, amount):\n",
    "    if amount > 0:\n",
    "      if amount <= self.balance:\n",
    "        self.balance -= amount\n",
    "        return self.balance\n",
    "      else:\n",
    "        print(\"please check your balance!\")\n",
    "    else:\n",
    "      print(\"can't withdraw non-positive amount!\")"
   ]
  },
  {
   "cell_type": "code",
   "execution_count": null,
   "metadata": {},
   "outputs": [],
   "source": []
  },
  {
   "cell_type": "markdown",
   "metadata": {
    "slideshow": {
     "slide_type": "subslide"
    }
   },
   "source": [
    "## Things to Know About Classes (Objects) in Python\n",
    "* some languages, such as Java and C++, use the keyword *this* inside methods, in order to refer to the object itself\n",
    "* in Python, we use *self*, which, oddly, must be the first argument to every method in the class (with some exceptions we will see in Part 2)\n",
    "  * *self* is not a reserved word in Python, it is just a naming convention that everyone follows\n",
    "  * when calling an object's methods, Python passes in a reference to that object as the first parameter\n",
    "  * you therefore don't *pass* the parameter, but you must *declare* it\n",
    "    * will take some getting used to but eventually it will be second nature"
   ]
  },
  {
   "cell_type": "code",
   "execution_count": null,
   "metadata": {
    "slideshow": {
     "slide_type": "subslide"
    }
   },
   "outputs": [],
   "source": []
  },
  {
   "cell_type": "markdown",
   "metadata": {
    "slideshow": {
     "slide_type": "subslide"
    }
   },
   "source": [
    "## Creating (Instantiating) a BankAccount Object\n",
    "* to create or *instantiate* an object of type BankAccount, we call the class as if it were a function\n",
    "* note that an *instance* of the class is different from the class itself"
   ]
  },
  {
   "cell_type": "code",
   "execution_count": 2,
   "metadata": {
    "slideshow": {
     "slide_type": "-"
    }
   },
   "outputs": [
    {
     "name": "stdout",
     "output_type": "stream",
     "text": [
      "in __init__\n",
      "in __init__\n",
      "<__main__.BankAccount object at 0x7182b422d340>\n",
      "<__main__.BankAccount object at 0x7182b422e210>\n"
     ]
    }
   ],
   "source": [
    "vijaya = BankAccount('Vijaya', 1000000)\n",
    "cameron = BankAccount('Cameron', 42)\n",
    "\n",
    "print(vijaya, cameron, sep='\\n')"
   ]
  },
  {
   "cell_type": "code",
   "execution_count": 3,
   "metadata": {
    "slideshow": {
     "slide_type": "-"
    }
   },
   "outputs": [
    {
     "name": "stdout",
     "output_type": "stream",
     "text": [
      "<__main__.BankAccount object at 0x7182b422d340>\n",
      "Vijaya\n",
      "1000000\n"
     ]
    }
   ],
   "source": [
    "print(vijaya)\n",
    "print(vijaya.name, vijaya.balance, sep='\\n')"
   ]
  },
  {
   "cell_type": "code",
   "execution_count": 4,
   "metadata": {},
   "outputs": [
    {
     "name": "stdout",
     "output_type": "stream",
     "text": [
      "<class '__main__.BankAccount'>\n",
      "<class 'type'>\n",
      "<class 'type'>\n"
     ]
    }
   ],
   "source": [
    "print(type(vijaya), type(BankAccount), type(int), sep='\\n')"
   ]
  },
  {
   "cell_type": "code",
   "execution_count": 5,
   "metadata": {},
   "outputs": [
    {
     "data": {
      "text/plain": [
       "1000042"
      ]
     },
     "execution_count": 5,
     "metadata": {},
     "output_type": "execute_result"
    }
   ],
   "source": [
    "vijaya.deposit(42)"
   ]
  },
  {
   "cell_type": "code",
   "execution_count": 6,
   "metadata": {},
   "outputs": [
    {
     "data": {
      "text/plain": [
       "42"
      ]
     },
     "execution_count": 6,
     "metadata": {},
     "output_type": "execute_result"
    }
   ],
   "source": [
    "vijaya.withdraw(1000000)"
   ]
  },
  {
   "cell_type": "code",
   "execution_count": 7,
   "metadata": {},
   "outputs": [
    {
     "data": {
      "text/plain": [
       "2"
      ]
     },
     "execution_count": 7,
     "metadata": {},
     "output_type": "execute_result"
    }
   ],
   "source": [
    "vijaya.withdraw(40)"
   ]
  },
  {
   "cell_type": "code",
   "execution_count": 8,
   "metadata": {},
   "outputs": [
    {
     "data": {
      "text/plain": [
       "2"
      ]
     },
     "execution_count": 8,
     "metadata": {},
     "output_type": "execute_result"
    }
   ],
   "source": [
    "vijaya.balance"
   ]
  },
  {
   "cell_type": "markdown",
   "metadata": {
    "slideshow": {
     "slide_type": "subslide"
    }
   },
   "source": [
    "## What happened when we *instantiated* a BankAcount object?\n",
    "            \n",
    "![alt-text](__init__2.png \"__init__\")\n",
    "![alt-text](BankAccount.png \"BankAccount\")\n",
    "## www.pythontutor.com"
   ]
  },
  {
   "cell_type": "code",
   "execution_count": null,
   "metadata": {
    "slideshow": {
     "slide_type": "subslide"
    }
   },
   "outputs": [],
   "source": []
  },
  {
   "cell_type": "code",
   "execution_count": null,
   "metadata": {
    "slideshow": {
     "slide_type": "subslide"
    }
   },
   "outputs": [],
   "source": []
  },
  {
   "cell_type": "code",
   "execution_count": null,
   "metadata": {},
   "outputs": [],
   "source": []
  },
  {
   "cell_type": "markdown",
   "metadata": {},
   "source": [
    "## What happens when you call a method such as __`deposit()`__?\n",
    "* Python calls the method inside the _class_ and passes a reference (the memory address) to the specific object for you which you want to call that method\n",
    "* Let's consider making a deposit to Taylor's account...\n",
    "  * Instead of calling __`taylor.deposit(45)`__, we can invoke the __`deposit()`__ method inside the __`BankAccount`__ class and pass a reference to the object we want to affect (__`taylor`__ in this case)"
   ]
  },
  {
   "cell_type": "code",
   "execution_count": 10,
   "metadata": {},
   "outputs": [
    {
     "name": "stdout",
     "output_type": "stream",
     "text": [
      "42\n",
      "1042\n"
     ]
    }
   ],
   "source": [
    "print(cameron.balance)\n",
    "\n",
    "BankAccount.deposit(cameron, 1000)\n",
    "\n",
    "print(cameron.balance)"
   ]
  },
  {
   "cell_type": "markdown",
   "metadata": {
    "slideshow": {
     "slide_type": "subslide"
    }
   },
   "source": [
    "## Magic Methods\n",
    "* methods whose name is of the form \\_\\_`foo`\\_\\_ are called \"magic methods\" in Python\n",
    "* you already know one of them: \\_\\_`init`\\_\\_\n",
    "  * \\_\\_`init`\\_\\_ is called automatically when the object is instantiated\n",
    "  * sometimes _incorrectly_ called a constructor"
   ]
  },
  {
   "cell_type": "markdown",
   "metadata": {
    "slideshow": {
     "slide_type": "subslide"
    }
   },
   "source": [
    "* __\\_\\_`str`\\_\\_()__ returns a string representation of the object (i.e., for humans)\n",
    "  * maps to __`str()`__ function\n",
    "  * what you get when you __`print()`__ an object\n",
    "* __\\_\\_`repr`\\_\\_()__ returns an unambiguous representation of the object which could be fed to Python interpreter to recreate the object\n",
    "  * maps to __`repr()`__ function\n",
    "  * what you get when you have the interpreter print the value of an object\n",
    "* a good example of the difference between __`str()`__ and __`repr()`__ can be demonstrated with a __`datetime`__ object..."
   ]
  },
  {
   "cell_type": "code",
   "execution_count": null,
   "metadata": {
    "slideshow": {
     "slide_type": "subslide"
    }
   },
   "outputs": [
    {
     "name": "stdout",
     "output_type": "stream",
     "text": [
      "<class 'datetime.datetime'>\n",
      "2025-09-23 20:45:32.334131\n"
     ]
    }
   ],
   "source": [
    "import datetime\n",
    "\n",
    "today = datetime.datetime.now()\n",
    "\n",
    "print(type(today), today, sep='\\n') # __str__ str()"
   ]
  },
  {
   "cell_type": "code",
   "execution_count": null,
   "metadata": {},
   "outputs": [
    {
     "data": {
      "text/plain": [
       "'2025-09-23 20:45:32.334131'"
      ]
     },
     "execution_count": 12,
     "metadata": {},
     "output_type": "execute_result"
    }
   ],
   "source": [
    "str(today) # the same the as __str__()"
   ]
  },
  {
   "cell_type": "code",
   "execution_count": 13,
   "metadata": {
    "scrolled": true
   },
   "outputs": [
    {
     "data": {
      "text/plain": [
       "'2025-09-23 20:45:32.334131'"
      ]
     },
     "execution_count": 13,
     "metadata": {},
     "output_type": "execute_result"
    }
   ],
   "source": [
    "today.__str__()"
   ]
  },
  {
   "cell_type": "code",
   "execution_count": null,
   "metadata": {},
   "outputs": [
    {
     "data": {
      "text/plain": [
       "'datetime.datetime(2025, 9, 23, 20, 45, 32, 334131)'"
      ]
     },
     "execution_count": 14,
     "metadata": {},
     "output_type": "execute_result"
    }
   ],
   "source": [
    "repr(today) # Same as __repr__()"
   ]
  },
  {
   "cell_type": "code",
   "execution_count": 15,
   "metadata": {},
   "outputs": [
    {
     "data": {
      "text/plain": [
       "'datetime.datetime(2025, 9, 23, 20, 45, 32, 334131)'"
      ]
     },
     "execution_count": 15,
     "metadata": {},
     "output_type": "execute_result"
    }
   ],
   "source": [
    "today.__repr__()"
   ]
  },
  {
   "cell_type": "code",
   "execution_count": 16,
   "metadata": {
    "slideshow": {
     "slide_type": "-"
    }
   },
   "outputs": [
    {
     "data": {
      "text/plain": [
       "datetime.datetime(2025, 9, 23, 20, 45, 32, 334131)"
      ]
     },
     "execution_count": 16,
     "metadata": {},
     "output_type": "execute_result"
    }
   ],
   "source": [
    "datetime.datetime(2025, 9, 23, 20, 45, 32, 334131)"
   ]
  },
  {
   "cell_type": "markdown",
   "metadata": {
    "slideshow": {
     "slide_type": "subslide"
    }
   },
   "source": [
    "## Let's augment our BankAccount class with __`str()`__ and __`repr()`__ functions..."
   ]
  },
  {
   "cell_type": "code",
   "execution_count": 30,
   "metadata": {},
   "outputs": [],
   "source": [
    "class BankAccountDos:\n",
    "  \"\"\"A class (or type) that represents a bank account.\"\"\"\n",
    "\n",
    "  def __init__(self, name, initial_balance):\n",
    "    self.name = name\n",
    "    self.balance = initial_balance\n",
    "\n",
    "    print('in __init__')\n",
    "\n",
    "  def __str__(self):\n",
    "    \"\"\"string representation of object, for humans (LLM's are welcome as well)\n",
    "    __repr__ is used if __str__ does not exit\"\"\"\n",
    "    return f\"{self.name} has ${self.balance} in the bank\"\n",
    "  \n",
    "  def __repr__(self):\n",
    "    \"\"\"unambiguous representation of the object\"\"\"\n",
    "    return self.__class__.__name__ + '(' + repr(self.name) + ', ' + repr(self.balance) + ')'\n",
    "  \n",
    "  def __add__(self, other):\n",
    "    return self.__class__(self.name + ' + ' + other.name,\n",
    "                          self.balance + other.balance)\n",
    "\n",
    "  def __eq__(self, other):\n",
    "    \"\"\"Check if two bank accounts are equal\"\"\"\n",
    "    if isinstance(other, BankAccountDos):\n",
    "      return self.name == other.name and self.balance == other.balance\n",
    "\n",
    "  def deposit(self, amount):\n",
    "    \"\"\"deposit function (a.k.a method)\"\"\"\n",
    "    if amount > 0:\n",
    "      self.balance += amount\n",
    "      return self.balance\n",
    "    else:\n",
    "      print(\"can't deposit non-positive amount!\")\n",
    "\n",
    "  def withdraw(self, amount):\n",
    "    if amount > 0:\n",
    "      if amount <= self.balance:\n",
    "        self.balance -= amount\n",
    "        return self.balance\n",
    "      else:\n",
    "        print(\"please check your balance!\")\n",
    "    else:\n",
    "      print(\"can't withdraw non-positive amount!\")"
   ]
  },
  {
   "cell_type": "code",
   "execution_count": 31,
   "metadata": {
    "slideshow": {
     "slide_type": "subslide"
    }
   },
   "outputs": [
    {
     "name": "stdout",
     "output_type": "stream",
     "text": [
      "in __init__\n",
      "in __init__\n",
      "Arockia has $500 in the bank\n",
      "Geoffrey has $100 in the bank\n"
     ]
    }
   ],
   "source": [
    "arockia = BankAccountDos('Arockia', 500)\n",
    "geoffrey = BankAccountDos('Geoffrey', 100)\n",
    "\n",
    "print(arockia)\n",
    "print(geoffrey)"
   ]
  },
  {
   "cell_type": "code",
   "execution_count": 24,
   "metadata": {},
   "outputs": [
    {
     "data": {
      "text/plain": [
       "BankAccountDos('Geoffrey', 100)"
      ]
     },
     "execution_count": 24,
     "metadata": {},
     "output_type": "execute_result"
    }
   ],
   "source": [
    "geoffrey"
   ]
  },
  {
   "cell_type": "code",
   "execution_count": 25,
   "metadata": {},
   "outputs": [
    {
     "data": {
      "text/plain": [
       "\"BankAccountDos('Geoffrey', 100)\""
      ]
     },
     "execution_count": 25,
     "metadata": {},
     "output_type": "execute_result"
    }
   ],
   "source": [
    "geoffrey.__repr__()"
   ]
  },
  {
   "cell_type": "code",
   "execution_count": 29,
   "metadata": {},
   "outputs": [
    {
     "name": "stdout",
     "output_type": "stream",
     "text": [
      "in __init__\n"
     ]
    },
    {
     "data": {
      "text/plain": [
       "BankAccountDos('Arockia + Geoffrey', 600)"
      ]
     },
     "execution_count": 29,
     "metadata": {},
     "output_type": "execute_result"
    }
   ],
   "source": [
    "arockia + geoffrey"
   ]
  },
  {
   "cell_type": "code",
   "execution_count": 32,
   "metadata": {},
   "outputs": [
    {
     "data": {
      "text/plain": [
       "False"
      ]
     },
     "execution_count": 32,
     "metadata": {},
     "output_type": "execute_result"
    }
   ],
   "source": [
    "arockia == geoffrey"
   ]
  },
  {
   "cell_type": "code",
   "execution_count": 33,
   "metadata": {},
   "outputs": [
    {
     "data": {
      "text/plain": [
       "True"
      ]
     },
     "execution_count": 33,
     "metadata": {},
     "output_type": "execute_result"
    }
   ],
   "source": [
    "geoffrey == geoffrey"
   ]
  },
  {
   "cell_type": "code",
   "execution_count": null,
   "metadata": {},
   "outputs": [],
   "source": []
  },
  {
   "cell_type": "code",
   "execution_count": null,
   "metadata": {},
   "outputs": [],
   "source": []
  },
  {
   "cell_type": "code",
   "execution_count": null,
   "metadata": {},
   "outputs": [],
   "source": []
  },
  {
   "cell_type": "code",
   "execution_count": null,
   "metadata": {},
   "outputs": [],
   "source": []
  },
  {
   "cell_type": "code",
   "execution_count": null,
   "metadata": {},
   "outputs": [],
   "source": []
  },
  {
   "cell_type": "markdown",
   "metadata": {
    "slideshow": {
     "slide_type": "subslide"
    }
   },
   "source": [
    "## Other Magic Methods\n",
    "* __\\_\\_`add`\\_\\___ = add two objects together\n",
    "* __\\_\\_`eq`\\_\\___ = implementation of ==\n",
    "* __\\_\\_`ne`\\_\\___ = implementation of !=\n",
    "* __\\_\\_`len`\\_\\___ = implementation of len() method"
   ]
  },
  {
   "cell_type": "markdown",
   "metadata": {},
   "source": [
    "## Lab: BankAccount (OOP)\n",
    "\n",
    "* Add a __\\_\\_`eq`\\_\\_()__ method to the BankAccount class\n",
    "  * How you define __\\_\\_`eq`\\_\\_()__ is up to you\n",
    "* Add a __\\_\\_`len`\\_\\_()__ method to the BankAccount class\n",
    "* Add a __\\_\\_`mul`\\_\\_()__ method to the BankAccount class\n",
    "  * it should create a new BankAccount which does something to the name and multiplies the balance by the second operand"
   ]
  },
  {
   "cell_type": "markdown",
   "metadata": {
    "slideshow": {
     "slide_type": "subslide"
    }
   },
   "source": [
    "## Lab: Calculator (OOP)\n",
    "\n",
    "* Create a class __`Calculator`__ which acts like a calculator\n",
    "  * Your class should have methods `add()`, `sub()`, `mult()`, `div()`, `pow()`, and `log()`\n",
    "  * Each of the above methods (except `log`) should take 1 or 2 arguments\n",
    "    * for 1 argument, e.g., `add(1)`, your method should add to the running total\n",
    "    * for 2 arguments, your method should act on those 2 arguments to create a new running total\n",
    "    * e.g., `add(2, 4)` should produce 6, and then if followed by `multiply(5)`, the result should be 30\n",
    "* All calculations should be stored, and should be accessible to the caller via the `showcalc()` method (kind of like a printing calculator)\n",
    "* You should also have an `ac()` \"all clear\" method which clears the running total and the list of calculations (i.e., showcalc() should produce no output, or \"0.0\" when preceded by a call to `ac()`)"
   ]
  },
  {
   "cell_type": "code",
   "execution_count": null,
   "metadata": {},
   "outputs": [],
   "source": []
  },
  {
   "cell_type": "code",
   "execution_count": null,
   "metadata": {},
   "outputs": [],
   "source": []
  },
  {
   "cell_type": "code",
   "execution_count": null,
   "metadata": {},
   "outputs": [],
   "source": []
  },
  {
   "cell_type": "code",
   "execution_count": null,
   "metadata": {},
   "outputs": [],
   "source": []
  },
  {
   "cell_type": "markdown",
   "metadata": {
    "slideshow": {
     "slide_type": "subslide"
    }
   },
   "source": [
    "## Inheritance\n",
    "* a Python class can inherit from one or more other classes\n",
    "* a class which inherits from a class is called a *subclass*\n",
    "  * the class from which the *subclass* inherits is called the *superclass*\n",
    "* a subclass which defines a method which exists in the superclass *overrides* the superclass's method"
   ]
  },
  {
   "cell_type": "markdown",
   "metadata": {
    "slideshow": {
     "slide_type": "subslide"
    }
   },
   "source": [
    "## __`Word`__: A Class Which Inherits from Python's Builtin __`str`__ Class\n",
    "* unlike strings, __`Word`__ are ordered by their length, rather than alphabetical order\n",
    "  * for example...\n",
    "\n",
    "<pre>\n",
    "'apple' < 'fig'\n",
    "Word('apple') > Word('fig')\n",
    "</pre>      \n",
    "        \n",
    "* in all other ways, `Word`s are the same as strings\n",
    "  * all we need to do is inherit from `str` and *override* the concepts of >, <, >=, <="
   ]
  },
  {
   "cell_type": "code",
   "execution_count": null,
   "metadata": {},
   "outputs": [],
   "source": []
  },
  {
   "cell_type": "code",
   "execution_count": null,
   "metadata": {},
   "outputs": [],
   "source": []
  },
  {
   "cell_type": "code",
   "execution_count": null,
   "metadata": {},
   "outputs": [],
   "source": []
  },
  {
   "cell_type": "code",
   "execution_count": null,
   "metadata": {},
   "outputs": [],
   "source": []
  },
  {
   "cell_type": "code",
   "execution_count": null,
   "metadata": {},
   "outputs": [],
   "source": []
  },
  {
   "cell_type": "code",
   "execution_count": null,
   "metadata": {},
   "outputs": [],
   "source": []
  },
  {
   "cell_type": "markdown",
   "metadata": {},
   "source": [
    "# Lab: Inheritance\n",
    "* create a type called FunnyList which has all the chocolately goodness of a list, but adds the following wrinkle:\n",
    "  * if two lists have same items but in different orders, they are considered equal\n",
    "  * e.g., __`[1, 2, 3]`__ == __`[3, 1, 2]`__\n",
    "* create a list class which has a __`.discard()`__ method analogous to the one in the set class"
   ]
  },
  {
   "cell_type": "code",
   "execution_count": null,
   "metadata": {},
   "outputs": [],
   "source": []
  },
  {
   "cell_type": "code",
   "execution_count": null,
   "metadata": {},
   "outputs": [],
   "source": []
  },
  {
   "cell_type": "markdown",
   "metadata": {
    "slideshow": {
     "slide_type": "subslide"
    }
   },
   "source": [
    "## Class variables vs. Instance variables\n",
    "* variables set outside __`__init__`__ belong to the *class* (as opposed to the *instance*) and are shared by all instances of the class\n",
    "    * these variables can be accessed via __`ClassName.var`__ and __`classInstance.var`__\n",
    "* variables created inside __init__ (and all other method functions) and prefaced with __`self.`__ belong to the object *instance* and cannot be accessed via __`ClassName.`__"
   ]
  },
  {
   "cell_type": "code",
   "execution_count": null,
   "metadata": {},
   "outputs": [],
   "source": []
  },
  {
   "cell_type": "code",
   "execution_count": null,
   "metadata": {},
   "outputs": [],
   "source": []
  },
  {
   "cell_type": "code",
   "execution_count": null,
   "metadata": {},
   "outputs": [],
   "source": []
  },
  {
   "cell_type": "code",
   "execution_count": null,
   "metadata": {},
   "outputs": [],
   "source": []
  },
  {
   "cell_type": "code",
   "execution_count": null,
   "metadata": {},
   "outputs": [],
   "source": []
  },
  {
   "cell_type": "code",
   "execution_count": null,
   "metadata": {},
   "outputs": [],
   "source": []
  },
  {
   "cell_type": "code",
   "execution_count": null,
   "metadata": {},
   "outputs": [],
   "source": []
  },
  {
   "cell_type": "code",
   "execution_count": null,
   "metadata": {},
   "outputs": [],
   "source": []
  },
  {
   "cell_type": "code",
   "execution_count": null,
   "metadata": {},
   "outputs": [],
   "source": []
  },
  {
   "cell_type": "code",
   "execution_count": null,
   "metadata": {},
   "outputs": [],
   "source": []
  },
  {
   "cell_type": "code",
   "execution_count": null,
   "metadata": {},
   "outputs": [],
   "source": []
  },
  {
   "cell_type": "code",
   "execution_count": null,
   "metadata": {},
   "outputs": [],
   "source": []
  },
  {
   "cell_type": "code",
   "execution_count": null,
   "metadata": {},
   "outputs": [],
   "source": []
  },
  {
   "cell_type": "code",
   "execution_count": null,
   "metadata": {},
   "outputs": [],
   "source": []
  },
  {
   "cell_type": "markdown",
   "metadata": {
    "slideshow": {
     "slide_type": "subslide"
    }
   },
   "source": [
    "## Lab: Class variables vs. Instance variables\n",
    "* create a class with an instance variable called __`name`__ which does the following:\n",
    "  * uses a class variable to keep track of the __`name`__ s of the objects that have been created\n",
    "* what if we wanted to know the names of the instances that exist currently, as opposed to the names of instances which have _ever_ been created\n",
    "  * hint: there is a __\\_\\_`del`\\_\\_()__ function\n"
   ]
  },
  {
   "cell_type": "code",
   "execution_count": null,
   "metadata": {},
   "outputs": [],
   "source": []
  },
  {
   "cell_type": "markdown",
   "metadata": {},
   "source": [
    "## Accessing Attributes of an Object\n",
    "* __\\_\\_`getattr`\\_\\_`(self, name)`__\n",
    " * called when you attempt to get the value of an attribute\n",
    " * you can add code to deal with attributes that don't exist (perhaps to catch common misspellings or just to avoid exceptions)\n",
    "* __\\_\\_`setattr`\\_\\_`(self, name, value)`__\n",
    " * called when you set the value of an attribute\n"
   ]
  },
  {
   "cell_type": "code",
   "execution_count": null,
   "metadata": {},
   "outputs": [],
   "source": []
  },
  {
   "cell_type": "code",
   "execution_count": null,
   "metadata": {},
   "outputs": [],
   "source": []
  },
  {
   "cell_type": "code",
   "execution_count": null,
   "metadata": {},
   "outputs": [],
   "source": []
  },
  {
   "cell_type": "code",
   "execution_count": null,
   "metadata": {},
   "outputs": [],
   "source": []
  },
  {
   "cell_type": "code",
   "execution_count": null,
   "metadata": {},
   "outputs": [],
   "source": []
  },
  {
   "cell_type": "code",
   "execution_count": null,
   "metadata": {},
   "outputs": [],
   "source": []
  },
  {
   "cell_type": "code",
   "execution_count": null,
   "metadata": {},
   "outputs": [],
   "source": []
  },
  {
   "cell_type": "markdown",
   "metadata": {},
   "source": [
    "## Lab: \\_\\_getattr__ and \\_\\_setattr__ \n",
    "* create an object which holds a value and has a \"modification\" counter which keeps track of how many times the object has been modified\n",
    "* for example, the value could be in an attribute called __`value`__, so you'll want to notice when you make changes to __`value`__ and increment the counter\n",
    "* if you allow modifications to other attributes, you won't increment the counter\n",
    "* consider rejecting attempts to modify the __`counter`__ attribute directly\n",
    "* you will need to use __`super()`__, Python's way to call a method in the parent (superclass) in order to actually modify the attribute...why?"
   ]
  },
  {
   "cell_type": "code",
   "execution_count": null,
   "metadata": {},
   "outputs": [],
   "source": []
  },
  {
   "cell_type": "code",
   "execution_count": null,
   "metadata": {},
   "outputs": [],
   "source": []
  },
  {
   "cell_type": "code",
   "execution_count": null,
   "metadata": {},
   "outputs": [],
   "source": []
  },
  {
   "cell_type": "code",
   "execution_count": null,
   "metadata": {},
   "outputs": [],
   "source": []
  },
  {
   "cell_type": "code",
   "execution_count": null,
   "metadata": {},
   "outputs": [],
   "source": []
  },
  {
   "cell_type": "code",
   "execution_count": null,
   "metadata": {},
   "outputs": [],
   "source": []
  },
  {
   "cell_type": "code",
   "execution_count": null,
   "metadata": {},
   "outputs": [],
   "source": []
  },
  {
   "cell_type": "code",
   "execution_count": null,
   "metadata": {},
   "outputs": [],
   "source": []
  }
 ],
 "metadata": {
  "celltoolbar": "Slideshow",
  "kernelspec": {
   "display_name": "LFG-Intermediate-Python-09-2025",
   "language": "python",
   "name": "python3"
  },
  "language_info": {
   "codemirror_mode": {
    "name": "ipython",
    "version": 3
   },
   "file_extension": ".py",
   "mimetype": "text/x-python",
   "name": "python",
   "nbconvert_exporter": "python",
   "pygments_lexer": "ipython3",
   "version": "3.12.4"
  }
 },
 "nbformat": 4,
 "nbformat_minor": 4
}
